{
 "cells": [
  {
   "cell_type": "markdown",
   "metadata": {},
   "source": [
    "### Feature Selection using RFE"
   ]
  },
  {
   "cell_type": "markdown",
   "metadata": {},
   "source": [
    "In this example, I am working with tree diferent datasets.\n",
    "\n",
    "I will use cros_val_score as model selection applied to many dataset dimensions, then I will select the dimension that gets better score."
   ]
  },
  {
   "cell_type": "code",
   "execution_count": 1,
   "metadata": {},
   "outputs": [],
   "source": [
    "import numpy as np\n",
    "import pandas as pd\n",
    "import matplotlib\n",
    "import matplotlib.pyplot as plt\n",
    "from matplotlib import cm\n",
    "%matplotlib notebook\n",
    "\n",
    "np.random.seed(0)"
   ]
  },
  {
   "cell_type": "markdown",
   "metadata": {},
   "source": [
    "Function to get the feature importance of each feature of the dataset.\n",
    "\n",
    "    1: most important\n",
    "    \n",
    "    no_feature: less important"
   ]
  },
  {
   "cell_type": "code",
   "execution_count": 2,
   "metadata": {},
   "outputs": [],
   "source": [
    "def important_features(df,y_all):\n",
    "    from sklearn.tree import DecisionTreeClassifier\n",
    "    from sklearn.feature_selection import RFE\n",
    "    clf = DecisionTreeClassifier(random_state=0)\n",
    "    selector = RFE(clf, 1, step=1)\n",
    "    selector = selector.fit(df, y_all)\n",
    "    pos=selector.ranking_\n",
    "    return pos"
   ]
  },
  {
   "cell_type": "markdown",
   "metadata": {},
   "source": [
    "Function to get the N features most important."
   ]
  },
  {
   "cell_type": "code",
   "execution_count": 3,
   "metadata": {},
   "outputs": [],
   "source": [
    "def select_features(no_feat,df,y):\n",
    "    pos=important_features(df,y)\n",
    "    no_features=no_feat\n",
    "    df_pos=pd.DataFrame({'Columna':df.columns,'Pos':pos})\n",
    "    l_max=[]\n",
    "    l_maxtes=[]\n",
    "    for n in range(1,df.shape[1]+1):  \n",
    "        no_feat=n\n",
    "        i=1\n",
    "        new_data=[]\n",
    "        l_max=[]\n",
    "        l_maxtes=[]\n",
    "        while i<=no_features:\n",
    "            for j in range(len(df_pos)):\n",
    "                if df_pos.values[j,1]==i:\n",
    "                    agrega=df_pos.values[j,0]\n",
    "                    new_data.append(agrega)\n",
    "                    break\n",
    "            i=i+1\n",
    "    print('Set of selected features : ',new_data)\n",
    "    return sorted(new_data)"
   ]
  },
  {
   "cell_type": "markdown",
   "metadata": {},
   "source": [
    "The **model_selection** function uses cros_val_score to obtain the scores of each CV.\n",
    "\n",
    "The **results_all_datas** function returns the mean_scores by each dataset dimension"
   ]
  },
  {
   "cell_type": "code",
   "execution_count": 4,
   "metadata": {},
   "outputs": [],
   "source": [
    "from sklearn.tree import DecisionTreeClassifier\n",
    "from sklearn.model_selection import cross_val_score\n",
    "from sklearn.metrics import auc\n",
    "\n",
    "def model_selection(df,y):\n",
    "    clf = DecisionTreeClassifier(random_state=0)\n",
    "    model=cross_val_score(clf,df,y,cv=10)\n",
    "    return model\n",
    "\n",
    "def results_all_datas(df,y):\n",
    "    results=[]\n",
    "    index_col=[]\n",
    "    for no_features in range(1,df.shape[1]+1):\n",
    "        cols=select_features(no_features,df,y)\n",
    "        df_new=df[cols]\n",
    "        r=model_selection(df_new,y)\n",
    "        results.append(r.mean())\n",
    "    return results"
   ]
  },
  {
   "cell_type": "markdown",
   "metadata": {},
   "source": [
    "### DataSet1 "
   ]
  },
  {
   "cell_type": "markdown",
   "metadata": {},
   "source": [
    "The iris dataset is a classic and very easy multi-class classification dataset.\n",
    "\n",
    "    - Classes \t        : 3\n",
    "    - Samples per class : 50  \n",
    "    - Samples total \t: 150\n",
    "    - Dimensionality \t: 4\n",
    "    - Features \t        : real, positive"
   ]
  },
  {
   "cell_type": "markdown",
   "metadata": {},
   "source": [
    "Import the data"
   ]
  },
  {
   "cell_type": "code",
   "execution_count": 5,
   "metadata": {},
   "outputs": [
    {
     "data": {
      "text/plain": [
       "(150, 4)"
      ]
     },
     "execution_count": 5,
     "metadata": {},
     "output_type": "execute_result"
    }
   ],
   "source": [
    "from sklearn.datasets import load_iris\n",
    "data = load_iris()\n",
    "df=pd.DataFrame(data=data.data)\n",
    "y=data.target\n",
    "df.shape "
   ]
  },
  {
   "cell_type": "markdown",
   "metadata": {},
   "source": [
    "Dataset Description"
   ]
  },
  {
   "cell_type": "code",
   "execution_count": 6,
   "metadata": {},
   "outputs": [
    {
     "name": "stdout",
     "output_type": "stream",
     "text": [
      ".. _iris_dataset:\n",
      "\n",
      "Iris plants dataset\n",
      "--------------------\n",
      "\n",
      "**Data Set Characteristics:**\n",
      "\n",
      "    :Number of Instances: 150 (50 in each of three classes)\n",
      "    :Number of Attributes: 4 numeric, predictive attributes and the class\n",
      "    :Attribute Information:\n",
      "        - sepal length in cm\n",
      "        - sepal width in cm\n",
      "        - petal length in cm\n",
      "        - petal width in cm\n",
      "        - class:\n",
      "                - Iris-Setosa\n",
      "                - Iris-Versicolour\n",
      "                - Iris-Virginica\n",
      "                \n",
      "    :Summary Statistics:\n",
      "\n",
      "    ============== ==== ==== ======= ===== ====================\n",
      "                    Min  Max   Mean    SD   Class Correlation\n",
      "    ============== ==== ==== ======= ===== ====================\n",
      "    sepal length:   4.3  7.9   5.84   0.83    0.7826\n",
      "    sepal width:    2.0  4.4   3.05   0.43   -0.4194\n",
      "    petal length:   1.0  6.9   3.76   1.76    0.9490  (high!)\n",
      "    petal width:    0.1  2.5   1.20   0.76    0.9565  (high!)\n",
      "    ============== ==== ==== ======= ===== ====================\n",
      "\n",
      "    :Missing Attribute Values: None\n",
      "    :Class Distribution: 33.3% for each of 3 classes.\n",
      "    :Creator: R.A. Fisher\n",
      "    :Donor: Michael Marshall (MARSHALL%PLU@io.arc.nasa.gov)\n",
      "    :Date: July, 1988\n",
      "\n",
      "The famous Iris database, first used by Sir R.A. Fisher. The dataset is taken\n",
      "from Fisher's paper. Note that it's the same as in R, but not as in the UCI\n",
      "Machine Learning Repository, which has two wrong data points.\n",
      "\n",
      "This is perhaps the best known database to be found in the\n",
      "pattern recognition literature.  Fisher's paper is a classic in the field and\n",
      "is referenced frequently to this day.  (See Duda & Hart, for example.)  The\n",
      "data set contains 3 classes of 50 instances each, where each class refers to a\n",
      "type of iris plant.  One class is linearly separable from the other 2; the\n",
      "latter are NOT linearly separable from each other.\n",
      "\n",
      ".. topic:: References\n",
      "\n",
      "   - Fisher, R.A. \"The use of multiple measurements in taxonomic problems\"\n",
      "     Annual Eugenics, 7, Part II, 179-188 (1936); also in \"Contributions to\n",
      "     Mathematical Statistics\" (John Wiley, NY, 1950).\n",
      "   - Duda, R.O., & Hart, P.E. (1973) Pattern Classification and Scene Analysis.\n",
      "     (Q327.D83) John Wiley & Sons.  ISBN 0-471-22361-1.  See page 218.\n",
      "   - Dasarathy, B.V. (1980) \"Nosing Around the Neighborhood: A New System\n",
      "     Structure and Classification Rule for Recognition in Partially Exposed\n",
      "     Environments\".  IEEE Transactions on Pattern Analysis and Machine\n",
      "     Intelligence, Vol. PAMI-2, No. 1, 67-71.\n",
      "   - Gates, G.W. (1972) \"The Reduced Nearest Neighbor Rule\".  IEEE Transactions\n",
      "     on Information Theory, May 1972, 431-433.\n",
      "   - See also: 1988 MLC Proceedings, 54-64.  Cheeseman et al\"s AUTOCLASS II\n",
      "     conceptual clustering system finds 3 classes in the data.\n",
      "   - Many, many more ...\n"
     ]
    }
   ],
   "source": [
    "print(data.DESCR)"
   ]
  },
  {
   "cell_type": "code",
   "execution_count": 7,
   "metadata": {},
   "outputs": [
    {
     "data": {
      "text/html": [
       "<div>\n",
       "<style scoped>\n",
       "    .dataframe tbody tr th:only-of-type {\n",
       "        vertical-align: middle;\n",
       "    }\n",
       "\n",
       "    .dataframe tbody tr th {\n",
       "        vertical-align: top;\n",
       "    }\n",
       "\n",
       "    .dataframe thead th {\n",
       "        text-align: right;\n",
       "    }\n",
       "</style>\n",
       "<table border=\"1\" class=\"dataframe\">\n",
       "  <thead>\n",
       "    <tr style=\"text-align: right;\">\n",
       "      <th></th>\n",
       "      <th>0</th>\n",
       "      <th>1</th>\n",
       "      <th>2</th>\n",
       "      <th>3</th>\n",
       "    </tr>\n",
       "  </thead>\n",
       "  <tbody>\n",
       "    <tr>\n",
       "      <th>0</th>\n",
       "      <td>5.1</td>\n",
       "      <td>3.5</td>\n",
       "      <td>1.4</td>\n",
       "      <td>0.2</td>\n",
       "    </tr>\n",
       "    <tr>\n",
       "      <th>1</th>\n",
       "      <td>4.9</td>\n",
       "      <td>3.0</td>\n",
       "      <td>1.4</td>\n",
       "      <td>0.2</td>\n",
       "    </tr>\n",
       "    <tr>\n",
       "      <th>2</th>\n",
       "      <td>4.7</td>\n",
       "      <td>3.2</td>\n",
       "      <td>1.3</td>\n",
       "      <td>0.2</td>\n",
       "    </tr>\n",
       "    <tr>\n",
       "      <th>3</th>\n",
       "      <td>4.6</td>\n",
       "      <td>3.1</td>\n",
       "      <td>1.5</td>\n",
       "      <td>0.2</td>\n",
       "    </tr>\n",
       "    <tr>\n",
       "      <th>4</th>\n",
       "      <td>5.0</td>\n",
       "      <td>3.6</td>\n",
       "      <td>1.4</td>\n",
       "      <td>0.2</td>\n",
       "    </tr>\n",
       "  </tbody>\n",
       "</table>\n",
       "</div>"
      ],
      "text/plain": [
       "     0    1    2    3\n",
       "0  5.1  3.5  1.4  0.2\n",
       "1  4.9  3.0  1.4  0.2\n",
       "2  4.7  3.2  1.3  0.2\n",
       "3  4.6  3.1  1.5  0.2\n",
       "4  5.0  3.6  1.4  0.2"
      ]
     },
     "execution_count": 7,
     "metadata": {},
     "output_type": "execute_result"
    }
   ],
   "source": [
    "df.head()"
   ]
  },
  {
   "cell_type": "markdown",
   "metadata": {},
   "source": [
    "results of model_selection by each set of selected features "
   ]
  },
  {
   "cell_type": "code",
   "execution_count": 8,
   "metadata": {},
   "outputs": [
    {
     "name": "stdout",
     "output_type": "stream",
     "text": [
      "Set of selected features :  [3]\n",
      "Set of selected features :  [3, 2]\n",
      "Set of selected features :  [3, 2, 1]\n",
      "Set of selected features :  [3, 2, 1, 0]\n"
     ]
    }
   ],
   "source": [
    "results=results_all_datas(df,y)    "
   ]
  },
  {
   "cell_type": "code",
   "execution_count": 9,
   "metadata": {},
   "outputs": [
    {
     "name": "stdout",
     "output_type": "stream",
     "text": [
      "num_features:      Score\n",
      "          1 : 0.9533333333333334\n",
      "          2 : 0.9466666666666667\n",
      "          3 : 0.96\n",
      "          4 : 0.96\n"
     ]
    }
   ],
   "source": [
    "print('num_features:      Score')\n",
    "for n in range(len(results)):\n",
    "    print(\"          {} : {}\".format(n+1,results[n]))\n"
   ]
  },
  {
   "cell_type": "markdown",
   "metadata": {},
   "source": [
    "select the set of features which obtained the best score"
   ]
  },
  {
   "cell_type": "code",
   "execution_count": 10,
   "metadata": {},
   "outputs": [
    {
     "name": "stdout",
     "output_type": "stream",
     "text": [
      "Best score:  0.96\n",
      "Number of features with the best score:  3\n"
     ]
    }
   ],
   "source": [
    "maxi=max(results) #best score\n",
    "print('Best score: ',maxi)\n",
    "no_feat = results.index(maxi)+1 #number of features with best score\n",
    "print('Number of features with the best score: ',no_feat)"
   ]
  },
  {
   "cell_type": "markdown",
   "metadata": {},
   "source": [
    "training the model with the winner set"
   ]
  },
  {
   "cell_type": "code",
   "execution_count": 11,
   "metadata": {},
   "outputs": [
    {
     "name": "stdout",
     "output_type": "stream",
     "text": [
      "Set of selected features :  [3, 2, 1]\n"
     ]
    }
   ],
   "source": [
    "df_new=df[select_features(no_feat,df,y)] #new data\n",
    "\n",
    "\n",
    "clf = DecisionTreeClassifier(random_state=0) #train the data\n",
    "best_score=cross_val_score(clf,df_new,y,cv=10).mean() #mean_score of new_data with the selected features\n"
   ]
  },
  {
   "cell_type": "code",
   "execution_count": 12,
   "metadata": {},
   "outputs": [
    {
     "data": {
      "text/plain": [
       "0.96"
      ]
     },
     "execution_count": 12,
     "metadata": {},
     "output_type": "execute_result"
    }
   ],
   "source": [
    "best_score"
   ]
  },
  {
   "cell_type": "code",
   "execution_count": 13,
   "metadata": {},
   "outputs": [
    {
     "data": {
      "text/plain": [
       "3"
      ]
     },
     "execution_count": 13,
     "metadata": {},
     "output_type": "execute_result"
    }
   ],
   "source": [
    "no_feat"
   ]
  },
  {
   "cell_type": "markdown",
   "metadata": {},
   "source": [
    "### DataSet2"
   ]
  },
  {
   "cell_type": "markdown",
   "metadata": {},
   "source": [
    "The breast cancer dataset is a classic and very easy binary classification dataset.\n",
    "\n",
    "    - Classes \t        : 2\n",
    "    - Samples per class : 212(M),357(B)\n",
    "    - Samples total \t: 569\n",
    "    - Dimensionality    : 30\n",
    "    - Features \t        : real, positive"
   ]
  },
  {
   "cell_type": "markdown",
   "metadata": {},
   "source": [
    "Import the data"
   ]
  },
  {
   "cell_type": "code",
   "execution_count": 14,
   "metadata": {},
   "outputs": [
    {
     "data": {
      "text/plain": [
       "(569, 30)"
      ]
     },
     "execution_count": 14,
     "metadata": {},
     "output_type": "execute_result"
    }
   ],
   "source": [
    "from sklearn.datasets import load_breast_cancer\n",
    "data = load_breast_cancer()\n",
    "df=pd.DataFrame(data=data.data)\n",
    "y=data.target\n",
    "df.shape"
   ]
  },
  {
   "cell_type": "code",
   "execution_count": 15,
   "metadata": {},
   "outputs": [
    {
     "data": {
      "text/plain": [
       "(569,)"
      ]
     },
     "execution_count": 15,
     "metadata": {},
     "output_type": "execute_result"
    }
   ],
   "source": [
    "y.shape"
   ]
  },
  {
   "cell_type": "markdown",
   "metadata": {},
   "source": [
    "results of model_selection by each set of selected features"
   ]
  },
  {
   "cell_type": "code",
   "execution_count": 16,
   "metadata": {},
   "outputs": [
    {
     "name": "stdout",
     "output_type": "stream",
     "text": [
      "Set of selected features :  [20]\n",
      "Set of selected features :  [20, 27]\n",
      "Set of selected features :  [20, 27, 21]\n",
      "Set of selected features :  [20, 27, 21, 24]\n",
      "Set of selected features :  [20, 27, 21, 24, 23]\n",
      "Set of selected features :  [20, 27, 21, 24, 23, 13]\n",
      "Set of selected features :  [20, 27, 21, 24, 23, 13, 7]\n",
      "Set of selected features :  [20, 27, 21, 24, 23, 13, 7, 26]\n",
      "Set of selected features :  [20, 27, 21, 24, 23, 13, 7, 26, 25]\n",
      "Set of selected features :  [20, 27, 21, 24, 23, 13, 7, 26, 25, 14]\n",
      "Set of selected features :  [20, 27, 21, 24, 23, 13, 7, 26, 25, 14, 22]\n",
      "Set of selected features :  [20, 27, 21, 24, 23, 13, 7, 26, 25, 14, 22, 12]\n",
      "Set of selected features :  [20, 27, 21, 24, 23, 13, 7, 26, 25, 14, 22, 12, 18]\n",
      "Set of selected features :  [20, 27, 21, 24, 23, 13, 7, 26, 25, 14, 22, 12, 18, 10]\n",
      "Set of selected features :  [20, 27, 21, 24, 23, 13, 7, 26, 25, 14, 22, 12, 18, 10, 11]\n",
      "Set of selected features :  [20, 27, 21, 24, 23, 13, 7, 26, 25, 14, 22, 12, 18, 10, 11, 9]\n",
      "Set of selected features :  [20, 27, 21, 24, 23, 13, 7, 26, 25, 14, 22, 12, 18, 10, 11, 9, 28]\n",
      "Set of selected features :  [20, 27, 21, 24, 23, 13, 7, 26, 25, 14, 22, 12, 18, 10, 11, 9, 28, 29]\n",
      "Set of selected features :  [20, 27, 21, 24, 23, 13, 7, 26, 25, 14, 22, 12, 18, 10, 11, 9, 28, 29, 8]\n",
      "Set of selected features :  [20, 27, 21, 24, 23, 13, 7, 26, 25, 14, 22, 12, 18, 10, 11, 9, 28, 29, 8, 19]\n",
      "Set of selected features :  [20, 27, 21, 24, 23, 13, 7, 26, 25, 14, 22, 12, 18, 10, 11, 9, 28, 29, 8, 19, 6]\n",
      "Set of selected features :  [20, 27, 21, 24, 23, 13, 7, 26, 25, 14, 22, 12, 18, 10, 11, 9, 28, 29, 8, 19, 6, 5]\n",
      "Set of selected features :  [20, 27, 21, 24, 23, 13, 7, 26, 25, 14, 22, 12, 18, 10, 11, 9, 28, 29, 8, 19, 6, 5, 4]\n",
      "Set of selected features :  [20, 27, 21, 24, 23, 13, 7, 26, 25, 14, 22, 12, 18, 10, 11, 9, 28, 29, 8, 19, 6, 5, 4, 16]\n",
      "Set of selected features :  [20, 27, 21, 24, 23, 13, 7, 26, 25, 14, 22, 12, 18, 10, 11, 9, 28, 29, 8, 19, 6, 5, 4, 16, 17]\n",
      "Set of selected features :  [20, 27, 21, 24, 23, 13, 7, 26, 25, 14, 22, 12, 18, 10, 11, 9, 28, 29, 8, 19, 6, 5, 4, 16, 17, 3]\n",
      "Set of selected features :  [20, 27, 21, 24, 23, 13, 7, 26, 25, 14, 22, 12, 18, 10, 11, 9, 28, 29, 8, 19, 6, 5, 4, 16, 17, 3, 2]\n",
      "Set of selected features :  [20, 27, 21, 24, 23, 13, 7, 26, 25, 14, 22, 12, 18, 10, 11, 9, 28, 29, 8, 19, 6, 5, 4, 16, 17, 3, 2, 1]\n",
      "Set of selected features :  [20, 27, 21, 24, 23, 13, 7, 26, 25, 14, 22, 12, 18, 10, 11, 9, 28, 29, 8, 19, 6, 5, 4, 16, 17, 3, 2, 1, 15]\n",
      "Set of selected features :  [20, 27, 21, 24, 23, 13, 7, 26, 25, 14, 22, 12, 18, 10, 11, 9, 28, 29, 8, 19, 6, 5, 4, 16, 17, 3, 2, 1, 15, 0]\n"
     ]
    }
   ],
   "source": [
    "results=results_all_datas(df,y)    "
   ]
  },
  {
   "cell_type": "markdown",
   "metadata": {},
   "source": [
    "select the set of features which obtained the best score"
   ]
  },
  {
   "cell_type": "code",
   "execution_count": 17,
   "metadata": {},
   "outputs": [
    {
     "name": "stdout",
     "output_type": "stream",
     "text": [
      "Best score:  0.9440983925330568\n",
      "Number of features with the best score:  6\n"
     ]
    }
   ],
   "source": [
    "maxi=max(results) #best score\n",
    "print('Best score: ',maxi)\n",
    "no_feat = results.index(maxi)+1 #number of features with best score\n",
    "print('Number of features with the best score: ',no_feat)"
   ]
  },
  {
   "cell_type": "markdown",
   "metadata": {},
   "source": [
    "training the model with the winner set"
   ]
  },
  {
   "cell_type": "code",
   "execution_count": 18,
   "metadata": {},
   "outputs": [
    {
     "name": "stdout",
     "output_type": "stream",
     "text": [
      "Set of selected features :  [20, 27, 21, 24, 23, 13]\n"
     ]
    }
   ],
   "source": [
    "df_new=df[select_features(no_feat,df,y)]\n",
    "\n",
    "\n",
    "clf = DecisionTreeClassifier(random_state=0)\n",
    "best_score=cross_val_score(clf,df_new,y,cv=10).mean()"
   ]
  },
  {
   "cell_type": "code",
   "execution_count": 19,
   "metadata": {},
   "outputs": [
    {
     "data": {
      "text/plain": [
       "0.9440983925330568"
      ]
     },
     "execution_count": 19,
     "metadata": {},
     "output_type": "execute_result"
    }
   ],
   "source": [
    "best_score"
   ]
  },
  {
   "cell_type": "code",
   "execution_count": 20,
   "metadata": {},
   "outputs": [
    {
     "data": {
      "text/plain": [
       "6"
      ]
     },
     "execution_count": 20,
     "metadata": {},
     "output_type": "execute_result"
    }
   ],
   "source": [
    "no_feat"
   ]
  },
  {
   "cell_type": "markdown",
   "metadata": {},
   "source": [
    "### DataSet3"
   ]
  },
  {
   "cell_type": "markdown",
   "metadata": {},
   "source": [
    "Each datapoint is a 8x8 image of a digit.\n",
    "\n",
    "    - Classes \t        :10\n",
    "    - Samples per class :~180\n",
    "    - Samples total \t:1797\n",
    "    - Dimensionality \t:64\n",
    "    - Features \tintegers 0-16"
   ]
  },
  {
   "cell_type": "markdown",
   "metadata": {},
   "source": [
    "Import the data"
   ]
  },
  {
   "cell_type": "code",
   "execution_count": 21,
   "metadata": {},
   "outputs": [
    {
     "data": {
      "text/plain": [
       "(1797, 64)"
      ]
     },
     "execution_count": 21,
     "metadata": {},
     "output_type": "execute_result"
    }
   ],
   "source": [
    "from sklearn.datasets import load_digits\n",
    "digits = load_digits()\n",
    "df=pd.DataFrame(data=digits.data)\n",
    "y=digits.target\n",
    "df.shape"
   ]
  },
  {
   "cell_type": "markdown",
   "metadata": {},
   "source": [
    "results of model_selection by each set of selected features"
   ]
  },
  {
   "cell_type": "code",
   "execution_count": 22,
   "metadata": {},
   "outputs": [
    {
     "name": "stdout",
     "output_type": "stream",
     "text": [
      "Set of selected features :  [42]\n",
      "Set of selected features :  [42, 5]\n",
      "Set of selected features :  [42, 5, 21]\n",
      "Set of selected features :  [42, 5, 21, 36]\n",
      "Set of selected features :  [42, 5, 21, 36, 20]\n",
      "Set of selected features :  [42, 5, 21, 36, 20, 27]\n",
      "Set of selected features :  [42, 5, 21, 36, 20, 27, 43]\n",
      "Set of selected features :  [42, 5, 21, 36, 20, 27, 43, 60]\n",
      "Set of selected features :  [42, 5, 21, 36, 20, 27, 43, 60, 33]\n",
      "Set of selected features :  [42, 5, 21, 36, 20, 27, 43, 60, 33, 29]\n",
      "Set of selected features :  [42, 5, 21, 36, 20, 27, 43, 60, 33, 29, 28]\n",
      "Set of selected features :  [42, 5, 21, 36, 20, 27, 43, 60, 33, 29, 28, 26]\n",
      "Set of selected features :  [42, 5, 21, 36, 20, 27, 43, 60, 33, 29, 28, 26, 34]\n",
      "Set of selected features :  [42, 5, 21, 36, 20, 27, 43, 60, 33, 29, 28, 26, 34, 44]\n",
      "Set of selected features :  [42, 5, 21, 36, 20, 27, 43, 60, 33, 29, 28, 26, 34, 44, 37]\n",
      "Set of selected features :  [42, 5, 21, 36, 20, 27, 43, 60, 33, 29, 28, 26, 34, 44, 37, 54]\n",
      "Set of selected features :  [42, 5, 21, 36, 20, 27, 43, 60, 33, 29, 28, 26, 34, 44, 37, 54, 12]\n",
      "Set of selected features :  [42, 5, 21, 36, 20, 27, 43, 60, 33, 29, 28, 26, 34, 44, 37, 54, 12, 10]\n",
      "Set of selected features :  [42, 5, 21, 36, 20, 27, 43, 60, 33, 29, 28, 26, 34, 44, 37, 54, 12, 10, 19]\n",
      "Set of selected features :  [42, 5, 21, 36, 20, 27, 43, 60, 33, 29, 28, 26, 34, 44, 37, 54, 12, 10, 19, 53]\n",
      "Set of selected features :  [42, 5, 21, 36, 20, 27, 43, 60, 33, 29, 28, 26, 34, 44, 37, 54, 12, 10, 19, 53, 18]\n",
      "Set of selected features :  [42, 5, 21, 36, 20, 27, 43, 60, 33, 29, 28, 26, 34, 44, 37, 54, 12, 10, 19, 53, 18, 13]\n",
      "Set of selected features :  [42, 5, 21, 36, 20, 27, 43, 60, 33, 29, 28, 26, 34, 44, 37, 54, 12, 10, 19, 53, 18, 13, 58]\n",
      "Set of selected features :  [42, 5, 21, 36, 20, 27, 43, 60, 33, 29, 28, 26, 34, 44, 37, 54, 12, 10, 19, 53, 18, 13, 58, 50]\n",
      "Set of selected features :  [42, 5, 21, 36, 20, 27, 43, 60, 33, 29, 28, 26, 34, 44, 37, 54, 12, 10, 19, 53, 18, 13, 58, 50, 52]\n",
      "Set of selected features :  [42, 5, 21, 36, 20, 27, 43, 60, 33, 29, 28, 26, 34, 44, 37, 54, 12, 10, 19, 53, 18, 13, 58, 50, 52, 3]\n",
      "Set of selected features :  [42, 5, 21, 36, 20, 27, 43, 60, 33, 29, 28, 26, 34, 44, 37, 54, 12, 10, 19, 53, 18, 13, 58, 50, 52, 3, 35]\n",
      "Set of selected features :  [42, 5, 21, 36, 20, 27, 43, 60, 33, 29, 28, 26, 34, 44, 37, 54, 12, 10, 19, 53, 18, 13, 58, 50, 52, 3, 35, 45]\n",
      "Set of selected features :  [42, 5, 21, 36, 20, 27, 43, 60, 33, 29, 28, 26, 34, 44, 37, 54, 12, 10, 19, 53, 18, 13, 58, 50, 52, 3, 35, 45, 61]\n",
      "Set of selected features :  [42, 5, 21, 36, 20, 27, 43, 60, 33, 29, 28, 26, 34, 44, 37, 54, 12, 10, 19, 53, 18, 13, 58, 50, 52, 3, 35, 45, 61, 38]\n",
      "Set of selected features :  [42, 5, 21, 36, 20, 27, 43, 60, 33, 29, 28, 26, 34, 44, 37, 54, 12, 10, 19, 53, 18, 13, 58, 50, 52, 3, 35, 45, 61, 38, 9]\n",
      "Set of selected features :  [42, 5, 21, 36, 20, 27, 43, 60, 33, 29, 28, 26, 34, 44, 37, 54, 12, 10, 19, 53, 18, 13, 58, 50, 52, 3, 35, 45, 61, 38, 9, 51]\n",
      "Set of selected features :  [42, 5, 21, 36, 20, 27, 43, 60, 33, 29, 28, 26, 34, 44, 37, 54, 12, 10, 19, 53, 18, 13, 58, 50, 52, 3, 35, 45, 61, 38, 9, 51, 41]\n",
      "Set of selected features :  [42, 5, 21, 36, 20, 27, 43, 60, 33, 29, 28, 26, 34, 44, 37, 54, 12, 10, 19, 53, 18, 13, 58, 50, 52, 3, 35, 45, 61, 38, 9, 51, 41, 46]\n",
      "Set of selected features :  [42, 5, 21, 36, 20, 27, 43, 60, 33, 29, 28, 26, 34, 44, 37, 54, 12, 10, 19, 53, 18, 13, 58, 50, 52, 3, 35, 45, 61, 38, 9, 51, 41, 46, 17]\n",
      "Set of selected features :  [42, 5, 21, 36, 20, 27, 43, 60, 33, 29, 28, 26, 34, 44, 37, 54, 12, 10, 19, 53, 18, 13, 58, 50, 52, 3, 35, 45, 61, 38, 9, 51, 41, 46, 17, 11]\n",
      "Set of selected features :  [42, 5, 21, 36, 20, 27, 43, 60, 33, 29, 28, 26, 34, 44, 37, 54, 12, 10, 19, 53, 18, 13, 58, 50, 52, 3, 35, 45, 61, 38, 9, 51, 41, 46, 17, 11, 4]\n",
      "Set of selected features :  [42, 5, 21, 36, 20, 27, 43, 60, 33, 29, 28, 26, 34, 44, 37, 54, 12, 10, 19, 53, 18, 13, 58, 50, 52, 3, 35, 45, 61, 38, 9, 51, 41, 46, 17, 11, 4, 59]\n",
      "Set of selected features :  [42, 5, 21, 36, 20, 27, 43, 60, 33, 29, 28, 26, 34, 44, 37, 54, 12, 10, 19, 53, 18, 13, 58, 50, 52, 3, 35, 45, 61, 38, 9, 51, 41, 46, 17, 11, 4, 59, 24]\n",
      "Set of selected features :  [42, 5, 21, 36, 20, 27, 43, 60, 33, 29, 28, 26, 34, 44, 37, 54, 12, 10, 19, 53, 18, 13, 58, 50, 52, 3, 35, 45, 61, 38, 9, 51, 41, 46, 17, 11, 4, 59, 24, 62]\n",
      "Set of selected features :  [42, 5, 21, 36, 20, 27, 43, 60, 33, 29, 28, 26, 34, 44, 37, 54, 12, 10, 19, 53, 18, 13, 58, 50, 52, 3, 35, 45, 61, 38, 9, 51, 41, 46, 17, 11, 4, 59, 24, 62, 25]\n",
      "Set of selected features :  [42, 5, 21, 36, 20, 27, 43, 60, 33, 29, 28, 26, 34, 44, 37, 54, 12, 10, 19, 53, 18, 13, 58, 50, 52, 3, 35, 45, 61, 38, 9, 51, 41, 46, 17, 11, 4, 59, 24, 62, 25, 6]\n",
      "Set of selected features :  [42, 5, 21, 36, 20, 27, 43, 60, 33, 29, 28, 26, 34, 44, 37, 54, 12, 10, 19, 53, 18, 13, 58, 50, 52, 3, 35, 45, 61, 38, 9, 51, 41, 46, 17, 11, 4, 59, 24, 62, 25, 6, 56]\n",
      "Set of selected features :  [42, 5, 21, 36, 20, 27, 43, 60, 33, 29, 28, 26, 34, 44, 37, 54, 12, 10, 19, 53, 18, 13, 58, 50, 52, 3, 35, 45, 61, 38, 9, 51, 41, 46, 17, 11, 4, 59, 24, 62, 25, 6, 56, 49]\n",
      "Set of selected features :  [42, 5, 21, 36, 20, 27, 43, 60, 33, 29, 28, 26, 34, 44, 37, 54, 12, 10, 19, 53, 18, 13, 58, 50, 52, 3, 35, 45, 61, 38, 9, 51, 41, 46, 17, 11, 4, 59, 24, 62, 25, 6, 56, 49, 23]\n",
      "Set of selected features :  [42, 5, 21, 36, 20, 27, 43, 60, 33, 29, 28, 26, 34, 44, 37, 54, 12, 10, 19, 53, 18, 13, 58, 50, 52, 3, 35, 45, 61, 38, 9, 51, 41, 46, 17, 11, 4, 59, 24, 62, 25, 6, 56, 49, 23, 39]\n",
      "Set of selected features :  [42, 5, 21, 36, 20, 27, 43, 60, 33, 29, 28, 26, 34, 44, 37, 54, 12, 10, 19, 53, 18, 13, 58, 50, 52, 3, 35, 45, 61, 38, 9, 51, 41, 46, 17, 11, 4, 59, 24, 62, 25, 6, 56, 49, 23, 39, 8]\n",
      "Set of selected features :  [42, 5, 21, 36, 20, 27, 43, 60, 33, 29, 28, 26, 34, 44, 37, 54, 12, 10, 19, 53, 18, 13, 58, 50, 52, 3, 35, 45, 61, 38, 9, 51, 41, 46, 17, 11, 4, 59, 24, 62, 25, 6, 56, 49, 23, 39, 8, 7]\n",
      "Set of selected features :  [42, 5, 21, 36, 20, 27, 43, 60, 33, 29, 28, 26, 34, 44, 37, 54, 12, 10, 19, 53, 18, 13, 58, 50, 52, 3, 35, 45, 61, 38, 9, 51, 41, 46, 17, 11, 4, 59, 24, 62, 25, 6, 56, 49, 23, 39, 8, 7, 22]\n",
      "Set of selected features :  [42, 5, 21, 36, 20, 27, 43, 60, 33, 29, 28, 26, 34, 44, 37, 54, 12, 10, 19, 53, 18, 13, 58, 50, 52, 3, 35, 45, 61, 38, 9, 51, 41, 46, 17, 11, 4, 59, 24, 62, 25, 6, 56, 49, 23, 39, 8, 7, 22, 2]\n",
      "Set of selected features :  [42, 5, 21, 36, 20, 27, 43, 60, 33, 29, 28, 26, 34, 44, 37, 54, 12, 10, 19, 53, 18, 13, 58, 50, 52, 3, 35, 45, 61, 38, 9, 51, 41, 46, 17, 11, 4, 59, 24, 62, 25, 6, 56, 49, 23, 39, 8, 7, 22, 2, 40]\n",
      "Set of selected features :  [42, 5, 21, 36, 20, 27, 43, 60, 33, 29, 28, 26, 34, 44, 37, 54, 12, 10, 19, 53, 18, 13, 58, 50, 52, 3, 35, 45, 61, 38, 9, 51, 41, 46, 17, 11, 4, 59, 24, 62, 25, 6, 56, 49, 23, 39, 8, 7, 22, 2, 40, 15]\n",
      "Set of selected features :  [42, 5, 21, 36, 20, 27, 43, 60, 33, 29, 28, 26, 34, 44, 37, 54, 12, 10, 19, 53, 18, 13, 58, 50, 52, 3, 35, 45, 61, 38, 9, 51, 41, 46, 17, 11, 4, 59, 24, 62, 25, 6, 56, 49, 23, 39, 8, 7, 22, 2, 40, 15, 30]\n",
      "Set of selected features :  [42, 5, 21, 36, 20, 27, 43, 60, 33, 29, 28, 26, 34, 44, 37, 54, 12, 10, 19, 53, 18, 13, 58, 50, 52, 3, 35, 45, 61, 38, 9, 51, 41, 46, 17, 11, 4, 59, 24, 62, 25, 6, 56, 49, 23, 39, 8, 7, 22, 2, 40, 15, 30, 16]\n",
      "Set of selected features :  [42, 5, 21, 36, 20, 27, 43, 60, 33, 29, 28, 26, 34, 44, 37, 54, 12, 10, 19, 53, 18, 13, 58, 50, 52, 3, 35, 45, 61, 38, 9, 51, 41, 46, 17, 11, 4, 59, 24, 62, 25, 6, 56, 49, 23, 39, 8, 7, 22, 2, 40, 15, 30, 16, 14]\n",
      "Set of selected features :  [42, 5, 21, 36, 20, 27, 43, 60, 33, 29, 28, 26, 34, 44, 37, 54, 12, 10, 19, 53, 18, 13, 58, 50, 52, 3, 35, 45, 61, 38, 9, 51, 41, 46, 17, 11, 4, 59, 24, 62, 25, 6, 56, 49, 23, 39, 8, 7, 22, 2, 40, 15, 30, 16, 14, 57]\n",
      "Set of selected features :  [42, 5, 21, 36, 20, 27, 43, 60, 33, 29, 28, 26, 34, 44, 37, 54, 12, 10, 19, 53, 18, 13, 58, 50, 52, 3, 35, 45, 61, 38, 9, 51, 41, 46, 17, 11, 4, 59, 24, 62, 25, 6, 56, 49, 23, 39, 8, 7, 22, 2, 40, 15, 30, 16, 14, 57, 48]\n",
      "Set of selected features :  [42, 5, 21, 36, 20, 27, 43, 60, 33, 29, 28, 26, 34, 44, 37, 54, 12, 10, 19, 53, 18, 13, 58, 50, 52, 3, 35, 45, 61, 38, 9, 51, 41, 46, 17, 11, 4, 59, 24, 62, 25, 6, 56, 49, 23, 39, 8, 7, 22, 2, 40, 15, 30, 16, 14, 57, 48, 47]\n"
     ]
    },
    {
     "name": "stdout",
     "output_type": "stream",
     "text": [
      "Set of selected features :  [42, 5, 21, 36, 20, 27, 43, 60, 33, 29, 28, 26, 34, 44, 37, 54, 12, 10, 19, 53, 18, 13, 58, 50, 52, 3, 35, 45, 61, 38, 9, 51, 41, 46, 17, 11, 4, 59, 24, 62, 25, 6, 56, 49, 23, 39, 8, 7, 22, 2, 40, 15, 30, 16, 14, 57, 48, 47, 55]\n",
      "Set of selected features :  [42, 5, 21, 36, 20, 27, 43, 60, 33, 29, 28, 26, 34, 44, 37, 54, 12, 10, 19, 53, 18, 13, 58, 50, 52, 3, 35, 45, 61, 38, 9, 51, 41, 46, 17, 11, 4, 59, 24, 62, 25, 6, 56, 49, 23, 39, 8, 7, 22, 2, 40, 15, 30, 16, 14, 57, 48, 47, 55, 31]\n",
      "Set of selected features :  [42, 5, 21, 36, 20, 27, 43, 60, 33, 29, 28, 26, 34, 44, 37, 54, 12, 10, 19, 53, 18, 13, 58, 50, 52, 3, 35, 45, 61, 38, 9, 51, 41, 46, 17, 11, 4, 59, 24, 62, 25, 6, 56, 49, 23, 39, 8, 7, 22, 2, 40, 15, 30, 16, 14, 57, 48, 47, 55, 31, 63]\n",
      "Set of selected features :  [42, 5, 21, 36, 20, 27, 43, 60, 33, 29, 28, 26, 34, 44, 37, 54, 12, 10, 19, 53, 18, 13, 58, 50, 52, 3, 35, 45, 61, 38, 9, 51, 41, 46, 17, 11, 4, 59, 24, 62, 25, 6, 56, 49, 23, 39, 8, 7, 22, 2, 40, 15, 30, 16, 14, 57, 48, 47, 55, 31, 63, 32]\n",
      "Set of selected features :  [42, 5, 21, 36, 20, 27, 43, 60, 33, 29, 28, 26, 34, 44, 37, 54, 12, 10, 19, 53, 18, 13, 58, 50, 52, 3, 35, 45, 61, 38, 9, 51, 41, 46, 17, 11, 4, 59, 24, 62, 25, 6, 56, 49, 23, 39, 8, 7, 22, 2, 40, 15, 30, 16, 14, 57, 48, 47, 55, 31, 63, 32, 1]\n",
      "Set of selected features :  [42, 5, 21, 36, 20, 27, 43, 60, 33, 29, 28, 26, 34, 44, 37, 54, 12, 10, 19, 53, 18, 13, 58, 50, 52, 3, 35, 45, 61, 38, 9, 51, 41, 46, 17, 11, 4, 59, 24, 62, 25, 6, 56, 49, 23, 39, 8, 7, 22, 2, 40, 15, 30, 16, 14, 57, 48, 47, 55, 31, 63, 32, 1, 0]\n"
     ]
    }
   ],
   "source": [
    "results=results_all_datas(df,y)   "
   ]
  },
  {
   "cell_type": "markdown",
   "metadata": {},
   "source": [
    "select the set of features which obtained the best score"
   ]
  },
  {
   "cell_type": "code",
   "execution_count": 23,
   "metadata": {},
   "outputs": [
    {
     "name": "stdout",
     "output_type": "stream",
     "text": [
      "Best score:  0.8364550070064775\n",
      "Number of features with the best score:  61\n"
     ]
    }
   ],
   "source": [
    "maxi=max(results) #best score\n",
    "print('Best score: ',maxi)\n",
    "no_feat = results.index(maxi)+1 #number of features with best score\n",
    "print('Number of features with the best score: ',no_feat)"
   ]
  },
  {
   "cell_type": "markdown",
   "metadata": {},
   "source": [
    "training the model with the winner set"
   ]
  },
  {
   "cell_type": "code",
   "execution_count": 24,
   "metadata": {},
   "outputs": [
    {
     "name": "stdout",
     "output_type": "stream",
     "text": [
      "Set of selected features :  [42, 5, 21, 36, 20, 27, 43, 60, 33, 29, 28, 26, 34, 44, 37, 54, 12, 10, 19, 53, 18, 13, 58, 50, 52, 3, 35, 45, 61, 38, 9, 51, 41, 46, 17, 11, 4, 59, 24, 62, 25, 6, 56, 49, 23, 39, 8, 7, 22, 2, 40, 15, 30, 16, 14, 57, 48, 47, 55, 31, 63]\n"
     ]
    }
   ],
   "source": [
    "df_new=df[select_features(no_feat,df,y)]\n",
    "\n",
    "\n",
    "clf = DecisionTreeClassifier(random_state=0)\n",
    "best_score=cross_val_score(clf,df_new,y,cv=10).mean()"
   ]
  },
  {
   "cell_type": "code",
   "execution_count": 25,
   "metadata": {},
   "outputs": [
    {
     "data": {
      "text/plain": [
       "0.8364550070064775"
      ]
     },
     "execution_count": 25,
     "metadata": {},
     "output_type": "execute_result"
    }
   ],
   "source": [
    "best_score"
   ]
  },
  {
   "cell_type": "code",
   "execution_count": 26,
   "metadata": {},
   "outputs": [
    {
     "data": {
      "text/plain": [
       "61"
      ]
     },
     "execution_count": 26,
     "metadata": {},
     "output_type": "execute_result"
    }
   ],
   "source": [
    "no_feat"
   ]
  }
 ],
 "metadata": {
  "kernelspec": {
   "display_name": "Python 3",
   "language": "python",
   "name": "python3"
  },
  "language_info": {
   "codemirror_mode": {
    "name": "ipython",
    "version": 3
   },
   "file_extension": ".py",
   "mimetype": "text/x-python",
   "name": "python",
   "nbconvert_exporter": "python",
   "pygments_lexer": "ipython3",
   "version": "3.7.3"
  }
 },
 "nbformat": 4,
 "nbformat_minor": 2
}
